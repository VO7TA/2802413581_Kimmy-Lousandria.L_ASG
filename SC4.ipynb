{
  "nbformat": 4,
  "nbformat_minor": 0,
  "metadata": {
    "colab": {
      "provenance": [],
      "authorship_tag": "ABX9TyOY3QrSeyDUa+g6Ft7+9yWk",
      "include_colab_link": true
    },
    "kernelspec": {
      "name": "python3",
      "display_name": "Python 3"
    },
    "language_info": {
      "name": "python"
    }
  },
  "cells": [
    {
      "cell_type": "markdown",
      "metadata": {
        "id": "view-in-github",
        "colab_type": "text"
      },
      "source": [
        "<a href=\"https://colab.research.google.com/github/VO7TA/2802413581_Kimmy-Lousandria.L_ASG/blob/main/SC4.ipynb\" target=\"_parent\"><img src=\"https://colab.research.google.com/assets/colab-badge.svg\" alt=\"Open In Colab\"/></a>"
      ]
    },
    {
      "cell_type": "markdown",
      "source": [
        "Bisection"
      ],
      "metadata": {
        "id": "s9f511n5E9xq"
      }
    },
    {
      "cell_type": "code",
      "execution_count": null,
      "metadata": {
        "id": "9p6jGbLqsx1f"
      },
      "outputs": [],
      "source": [
        "#syarat f(a).f(b) < 0\n",
        "\n",
        "import numpy as np\n",
        "\n",
        "def my_bisection(f,a,b,tol):\n",
        "  #approximate a root, R. of f bounded\n",
        "  #by a and b to within tolerance\n",
        "  #|f(m)|<tol with m the mid point\n",
        "  #beetwen a and b recursive implementtation\n",
        "\n",
        "  #check if a and b bound a root\n",
        "  if np.sign (f(a)) == np.sign(f(b)):\n",
        "    raise Exception('The Scalars a and b do not bound a root')\n",
        "\n",
        "  #get mid poin\n",
        "  m = (a+b)/2\n",
        "\n",
        "  if np.abs(f(m)) < tol:\n",
        "    # stopping condition, report m as root\n",
        "    return m\n",
        "  elif np.sign(f(a))==np.sign(f(m)):\n",
        "    #case where m is an improvement on a.\n",
        "    #make recursive call with a=m\n",
        "    return my_bisection(f,m,b,tol)\n",
        "  elif np.sign(f(b))==np.sign(f(m)):\n",
        "    #case where m is an improvement on b.\n",
        "    #make recursive call with b=m\n",
        "    return my_bisection(f,a,m,tol)\n"
      ]
    },
    {
      "cell_type": "code",
      "source": [
        "f = lambda x: x**2-2\n",
        "\n",
        "r1=my_bisection(f,0,2,0.1)\n",
        "print (\"r1 =\",r1)\n",
        "r01=my_bisection(f,0,2,0.01)\n",
        "print(\"r01 =\",r01)\n",
        "\n",
        "print(\"f(r1) =\",f(r1))\n",
        "print(\"f(r01) =\",f(r01))"
      ],
      "metadata": {
        "colab": {
          "base_uri": "https://localhost:8080/"
        },
        "id": "7vVYuox2xjRS",
        "outputId": "77583042-7e17-416e-c124-c3ab39c1f917"
      },
      "execution_count": null,
      "outputs": [
        {
          "output_type": "stream",
          "name": "stdout",
          "text": [
            "r1 = 1.4375\n",
            "r01 = 1.4140625\n",
            "f(r1) = 0.06640625\n",
            "f(r01) = -0.00042724609375\n"
          ]
        }
      ]
    },
    {
      "cell_type": "markdown",
      "source": [
        "NEWTON RAPHSON"
      ],
      "metadata": {
        "id": "trpEkhH5zM7N"
      }
    },
    {
      "cell_type": "code",
      "source": [
        "import numpy as np\n",
        "\n",
        "f = lambda x: x**2-2\n",
        "f_prime = lambda x: 2*x\n",
        "newton_raphson = 1.4-(f(1.4))/(f_prime(1.4))\n",
        "\n",
        "print(\"newton_raphson =\",newton_raphson)\n",
        "print(\"sqrt(2) = \",np.sqrt(2))"
      ],
      "metadata": {
        "colab": {
          "base_uri": "https://localhost:8080/"
        },
        "id": "r7cNUtf0zPg5",
        "outputId": "5ce6ff3a-eec2-4090-d425-8dfcc26c9d5f"
      },
      "execution_count": null,
      "outputs": [
        {
          "output_type": "stream",
          "name": "stdout",
          "text": [
            "newton_raphson = 1.4142857142857144\n",
            "sqrt(2) =  1.4142135623730951\n"
          ]
        }
      ]
    },
    {
      "cell_type": "code",
      "source": [
        "def my_newton (f, df, x0,tol):\n",
        "  #output is an estimation of the root of f\n",
        "  # using the newton Raphson metdoh\n",
        "  # recursive implementation\n",
        "  if abs (f(x0)) < tol:\n",
        "    return x0\n",
        "  else:\n",
        "    return my_newton(f,df,x0-f(x0)/df(x0),tol)"
      ],
      "metadata": {
        "id": "SA2VnE7-zmtC"
      },
      "execution_count": null,
      "outputs": []
    },
    {
      "cell_type": "code",
      "source": [
        "estimate = my_newton(f,f_prime,1.5,1e-6)\n",
        "print(\"estimate =\",estimate)\n",
        "print(\"sqrt(2) =\",np.sqrt(2))"
      ],
      "metadata": {
        "colab": {
          "base_uri": "https://localhost:8080/"
        },
        "id": "NiwKVPPo1ALx",
        "outputId": "4ad8856c-b85c-4632-a37d-34a03a3456d2"
      },
      "execution_count": null,
      "outputs": [
        {
          "output_type": "stream",
          "name": "stdout",
          "text": [
            "estimate = 1.4142135623746899\n",
            "sqrt(2) = 1.4142135623730951\n"
          ]
        }
      ]
    },
    {
      "cell_type": "code",
      "source": [
        "f = lambda x: np.cos(x)-x\n",
        "\n",
        "r1=my_bisection(f,0,1,0.0001)\n",
        "print (\"r1 =\",r1)\n"
      ],
      "metadata": {
        "colab": {
          "base_uri": "https://localhost:8080/"
        },
        "id": "ERG3BmG1SZ28",
        "outputId": "35b34f64-5e5d-434d-c262-6b16d1d52df0"
      },
      "execution_count": null,
      "outputs": [
        {
          "output_type": "stream",
          "name": "stdout",
          "text": [
            "r1 = 0.7391357421875\n"
          ]
        }
      ]
    },
    {
      "cell_type": "markdown",
      "source": [
        "SOAL PAPAN\n"
      ],
      "metadata": {
        "id": "uuUvzguZSVsS"
      }
    },
    {
      "cell_type": "code",
      "source": [
        "f = lambda x: np.sin(x)-x\n",
        "\n",
        "r1=my_bisection(f,0,1,0.01)\n",
        "print (\"r1 =\",r1)\n"
      ],
      "metadata": {
        "colab": {
          "base_uri": "https://localhost:8080/"
        },
        "id": "Kv-Vs8Mx5-VQ",
        "outputId": "a2ace4f0-e1e8-40ec-d008-d5cdde4a1972"
      },
      "execution_count": null,
      "outputs": [
        {
          "output_type": "stream",
          "name": "stdout",
          "text": [
            "r1 = 0.00390625\n"
          ]
        }
      ]
    },
    {
      "cell_type": "code",
      "source": [
        "f = lambda x: x**3-3*x**2+2*x\n",
        "\n",
        "r1=my_bisection(f,0,1.1,2)\n",
        "print (\"r1 =\",r1)\n"
      ],
      "metadata": {
        "colab": {
          "base_uri": "https://localhost:8080/"
        },
        "id": "9-qbvlgHYiG_",
        "outputId": "979e00ef-4be9-491f-86a1-59ce1806b500"
      },
      "execution_count": null,
      "outputs": [
        {
          "output_type": "stream",
          "name": "stdout",
          "text": [
            "r1 = 0.55\n"
          ]
        }
      ]
    },
    {
      "cell_type": "code",
      "source": [
        "import numpy as np\n",
        "\n",
        "f = lambda x: x**3-3*x**2+2*x\n",
        "f_prime = lambda x: 3*x**2-6*x+2\n",
        "newton_raphson = 1.4-(f(1.4))/(f_prime(1.4))\n",
        "\n",
        "print(\"newton_raphson =\",newton_raphson)"
      ],
      "metadata": {
        "colab": {
          "base_uri": "https://localhost:8080/"
        },
        "id": "Fun12KH66Owu",
        "outputId": "cbfb8a08-dbe8-40ff-ecb6-395eb35d5cbb"
      },
      "execution_count": null,
      "outputs": [
        {
          "output_type": "stream",
          "name": "stdout",
          "text": [
            "newton_raphson = 0.7538461538461535\n"
          ]
        }
      ]
    },
    {
      "cell_type": "code",
      "source": [
        "estimate = my_newton(f,f_prime,1.5,0.001)\n",
        "print(\"estimate =\",estimate)"
      ],
      "metadata": {
        "colab": {
          "base_uri": "https://localhost:8080/"
        },
        "id": "9lH1ImTv7hMP",
        "outputId": "d7957e9a-681a-489f-c7fc-681223e19508"
      },
      "execution_count": null,
      "outputs": [
        {
          "output_type": "stream",
          "name": "stdout",
          "text": [
            "estimate = -0.0004600571726098338\n"
          ]
        }
      ]
    }
  ]
}